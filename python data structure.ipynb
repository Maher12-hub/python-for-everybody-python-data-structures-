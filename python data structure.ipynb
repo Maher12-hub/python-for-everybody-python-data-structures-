{
 "cells": [
  {
   "cell_type": "code",
   "execution_count": 1,
   "metadata": {},
   "outputs": [
    {
     "name": "stdout",
     "output_type": "stream",
     "text": [
      "0 M\n",
      "1 a\n",
      "2 h\n",
      "3 e\n",
      "4 r\n"
     ]
    }
   ],
   "source": [
    "name='Maher'\n",
    "index=0\n",
    "while index<len(name):\n",
    "    letter=name[index]\n",
    "    print(index,letter)\n",
    "    index+=1\n"
   ]
  },
  {
   "cell_type": "code",
   "execution_count": 2,
   "metadata": {},
   "outputs": [
    {
     "name": "stdout",
     "output_type": "stream",
     "text": [
      "0 m\n",
      "1 a\n",
      "2 n\n",
      "3 g\n",
      "4 o\n"
     ]
    }
   ],
   "source": [
    "fruit='mango'\n",
    "i=0\n",
    "for letter in fruit:\n",
    "    print(i,letter)\n",
    "    i+=1"
   ]
  },
  {
   "cell_type": "code",
   "execution_count": 4,
   "metadata": {},
   "outputs": [
    {
     "name": "stdout",
     "output_type": "stream",
     "text": [
      "a: 3\n"
     ]
    }
   ],
   "source": [
    "word='banana'\n",
    "count=0\n",
    "for letter in word:\n",
    "    if letter=='a':\n",
    "        count+=1\n",
    "print('a:',count)"
   ]
  },
  {
   "cell_type": "code",
   "execution_count": 6,
   "metadata": {},
   "outputs": [
    {
     "data": {
      "text/plain": [
       "3"
      ]
     },
     "execution_count": 6,
     "metadata": {},
     "output_type": "execute_result"
    }
   ],
   "source": [
    "'maher'.capitalize()\n",
    "'maher'.find('e')"
   ]
  },
  {
   "cell_type": "code",
   "execution_count": 9,
   "metadata": {},
   "outputs": [
    {
     "data": {
      "text/plain": [
       "'uct.ac.za'"
      ]
     },
     "execution_count": 9,
     "metadata": {},
     "output_type": "execute_result"
    }
   ],
   "source": [
    "data='maher@uct.ac.za sat'\n",
    "apos=data.find('@')\n",
    "spos=data.find(' ',apos)\n",
    "host=data[apos+1:spos]\n",
    "host"
   ]
  },
  {
   "cell_type": "code",
   "execution_count": 18,
   "metadata": {},
   "outputs": [
    {
     "data": {
      "text/plain": [
       "0.8475"
      ]
     },
     "execution_count": 18,
     "metadata": {},
     "output_type": "execute_result"
    }
   ],
   "source": [
    "#6.5 Write code using find() and string slicing (see section 6.10) to extract the number at \n",
    "#the end of the line below. Convert the extracted value to a floating point number and print \n",
    "#it out.\n",
    "\n",
    "\n",
    "text = \"X-DSPAM-Confidence:    0.8475\";\n",
    "text=text.replace(' ','')\n",
    "spos=text.find(':')\n",
    "num=text[spos+1:]\n",
    "num=float(num)\n",
    "print(num)"
   ]
  },
  {
   "cell_type": "code",
   "execution_count": 47,
   "metadata": {},
   "outputs": [
    {
     "name": "stdout",
     "output_type": "stream",
     "text": [
      "from:maher@gmail.com\n",
      "from:rahi@gmail.com\n",
      "from:sunny@gmail.com\n",
      "from:bappu@gmail.com\n",
      "from:salman@gmail.com\n",
      "from:sahrukh@gmail.com\n"
     ]
    }
   ],
   "source": [
    "#f=open('test.txt.txt','r') \n",
    "#for line in f:\n",
    "    #print(line)\n",
    "#with open('test.txt.txt','r') as f:\n",
    "    #print(f.readlines())\n",
    "    #print(f.read())\n",
    "    #for line in f:\n",
    "        #print(line)\n",
    "    #print(f.read(103))\n",
    "#with open('test2.txt','w') as wf:\n",
    "    #wf.write('my name is maher')\n",
    "#with open('test.txt.txt','r') as rf:\n",
    "    #with open('test2.txt','w') as wf:\n",
    "        #for line in rf:\n",
    "            #wf.write(line)\n",
    "#with open('test2.txt','r') as rf:\n",
    "    #print(rf.read())\n",
    "#with open('writting.txt','r',encoding='utf-8') as rf:\n",
    "   # count=0\n",
    "   # for line in rf:\n",
    "    #    count+=1\n",
    "   # print('count lines:',count)\n",
    "#with open('writting.txt','r',encoding='utf-8') as rf:\n",
    "    #for line in rf:\n",
    "        #line=line.strip()\n",
    "        #if line.startswith('from:'):\n",
    "            #print(line)\n",
    "with open('writting.txt','r',encoding='utf-8') as rf:\n",
    "    for line in rf:\n",
    "        line=line.strip()\n",
    "        if not '@gmail.com' in line:\n",
    "            continue\n",
    "        print(line)"
   ]
  },
  {
   "cell_type": "code",
   "execution_count": 49,
   "metadata": {},
   "outputs": [
    {
     "name": "stdout",
     "output_type": "stream",
     "text": [
      "WRITING PROGRAMS OR PROGRAMMING IS A VERY CREATIVE\n",
      "AND REWARDING ACTIVITY  YOU CAN WRITE PROGRAMS FOR\n",
      "MANY REASONS RANGING FROM MAKING YOUR LIVING TO SOLVING\n",
      "A DIFFICULT DATA ANALYSIS PROBLEM TO HAVING FUN TO HELPING\n",
      "SOMEONE ELSE SOLVE A PROBLEM  THIS BOOK ASSUMES THAT\n",
      "{\\EM EVERYONE} NEEDS TO KNOW HOW TO PROGRAM AND THAT ONCE\n",
      "YOU KNOW HOW TO PROGRAM, YOU WILL FIGURE OUT WHAT YOU WANT\n",
      "TO DO WITH YOUR NEWFOUND SKILLS\n",
      "\n",
      "WE ARE SURROUNDED IN OUR DAILY LIVES WITH COMPUTERS RANGING\n",
      "FROM LAPTOPS TO CELL PHONES  WE CAN THINK OF THESE COMPUTERS\n",
      "AS OUR PERSONAL ASSISTANTS WHO CAN TAKE CARE OF MANY THINGS\n",
      "ON OUR BEHALF  THE HARDWARE IN OUR CURRENT-DAY COMPUTERS\n",
      "IS ESSENTIALLY BUILT TO CONTINUOUSLY ASK US THE QUESTION\n",
      "WHAT WOULD YOU LIKE ME TO DO NEXT\n",
      "\n",
      "OUR COMPUTERS ARE FAST AND HAVE VASTS AMOUNTS OF MEMORY AND\n",
      "COULD BE VERY HELPFUL TO US IF WE ONLY KNEW THE LANGUAGE TO\n",
      "SPEAK TO EXPLAIN TO THE COMPUTER WHAT WE WOULD LIKE IT TO\n",
      "DO NEXT IF WE KNEW THIS LANGUAGE WE COULD TELL THE\n",
      "COMPUTER TO DO TASKS ON OUR BEHALF THAT WERE REPTITIVE\n",
      "INTERESTINGLY, THE KINDS OF THINGS COMPUTERS CAN DO BEST\n",
      "ARE OFTEN THE KINDS OF THINGS THAT WE HUMANS FIND BORING\n",
      "AND MIND-NUMBING\n"
     ]
    }
   ],
   "source": [
    "#7.1 Write a program that prompts for a file name, then opens that file and reads through the\n",
    "#file, and print the contents of the file in upper case. Use the file words.txt to produce the output below.\n",
    "\n",
    "with open('words.txt.txt','r',encoding='utf-8') as rf:\n",
    "    for line in rf:\n",
    "        print(line.strip().upper())"
   ]
  },
  {
   "cell_type": "code",
   "execution_count": 72,
   "metadata": {},
   "outputs": [
    {
     "name": "stdout",
     "output_type": "stream",
     "text": [
      "enter the filename:mbox-short.txt\n",
      "Average spam confidence: 0.7507185185185187\n"
     ]
    }
   ],
   "source": [
    "#Write a program that prompts for a file name, then opens that file and reads through the \n",
    "#file, looking for lines of the form:\n",
    "#X-DSPAM-Confidence:    0.8475\n",
    "#Count these lines and extract the floating point values from each of the lines and compute \n",
    "#the average of those values and produce an output as shown below. Do not use the sum()\n",
    "#function or a variable named sum in your solution. \n",
    "\n",
    "fname=input('enter the filename:')\n",
    "rf=open(fname,'r')\n",
    "count=0\n",
    "total=0\n",
    "for line in rf:\n",
    "    line=line.strip()\n",
    "    if line.startswith('X-DSPAM-Confidence'):\n",
    "        line=line.replace(' ','')\n",
    "        spos=line.find(':')\n",
    "        num=line[spos+1:]\n",
    "        count+=1\n",
    "        total+=float(num)\n",
    "result=total/count\n",
    "print('Average spam confidence: {}'.format(float(result)))"
   ]
  },
  {
   "cell_type": "code",
   "execution_count": 83,
   "metadata": {},
   "outputs": [
    {
     "name": "stdout",
     "output_type": "stream",
     "text": [
      ">10\n",
      ">20\n",
      ">30\n",
      ">done\n",
      "20.0\n"
     ]
    }
   ],
   "source": [
    "li=[]\n",
    "while True:\n",
    "    inp=input('>')\n",
    "    if inp=='done':\n",
    "        break\n",
    "    values=int(inp)\n",
    "    li.append(values)\n",
    "total=0\n",
    "for i in li:\n",
    "    total+=i\n",
    "average=total/len(li)\n",
    "print(average)"
   ]
  },
  {
   "cell_type": "code",
   "execution_count": 90,
   "metadata": {},
   "outputs": [
    {
     "name": "stdout",
     "output_type": "stream",
     "text": [
      "Sat\n",
      "Fri\n",
      "Fri\n",
      "Fri\n",
      "Fri\n",
      "Fri\n",
      "Fri\n",
      "Fri\n",
      "Fri\n",
      "Fri\n",
      "Fri\n",
      "Fri\n",
      "Fri\n",
      "Fri\n",
      "Fri\n",
      "Fri\n",
      "Fri\n",
      "Fri\n",
      "Fri\n",
      "Fri\n",
      "Fri\n",
      "Thu\n",
      "Thu\n",
      "Thu\n",
      "Thu\n",
      "Thu\n",
      "Thu\n"
     ]
    }
   ],
   "source": [
    "with open('mbox-short.txt','r') as rf:\n",
    "    for line in rf:\n",
    "        line=line.rstrip()\n",
    "        if not line.startswith('From '):\n",
    "            continue\n",
    "        words=line.split()\n",
    "        print(words[2])"
   ]
  },
  {
   "cell_type": "code",
   "execution_count": 93,
   "metadata": {},
   "outputs": [
    {
     "name": "stdout",
     "output_type": "stream",
     "text": [
      "enter your filename:romeo.txt\n",
      "['Arise', 'But', 'It', 'Juliet', 'Who', 'already', 'and', 'breaks', 'east', 'envious', 'fair', 'grief', 'is', 'kill', 'light', 'moon', 'pale', 'sick', 'soft', 'sun', 'the', 'through', 'what', 'window', 'with', 'yonder']\n"
     ]
    }
   ],
   "source": [
    "#Open the file romeo.txt and read it line by line. For each line, split the line into a list \n",
    "#of words using the split() method. The program should build a list of words. For each word \n",
    "#on each line check to see if the word is already in the list and if not append it to the list. When the program completes, sort and print the resulting words in alphabetical order. \n",
    "\n",
    "fname=input('enter your filename:')\n",
    "rf=open(fname,'r')\n",
    "li=[]\n",
    "for line in rf:\n",
    "    line=line.rstrip()\n",
    "    words=line.split()\n",
    "    for word in words:\n",
    "        if word not in li:\n",
    "            li.append(word)\n",
    "        else:\n",
    "            continue\n",
    "li=sorted(li)\n",
    "print(li)"
   ]
  },
  {
   "cell_type": "code",
   "execution_count": 98,
   "metadata": {},
   "outputs": [
    {
     "name": "stdout",
     "output_type": "stream",
     "text": [
      "enter your filename:mbox-short.txt\n",
      "stephen.marquard@uct.ac.za\n",
      "louis@media.berkeley.edu\n",
      "zqian@umich.edu\n",
      "rjlowe@iupui.edu\n",
      "zqian@umich.edu\n",
      "rjlowe@iupui.edu\n",
      "cwen@iupui.edu\n",
      "cwen@iupui.edu\n",
      "gsilver@umich.edu\n",
      "gsilver@umich.edu\n",
      "zqian@umich.edu\n",
      "gsilver@umich.edu\n",
      "wagnermr@iupui.edu\n",
      "zqian@umich.edu\n",
      "antranig@caret.cam.ac.uk\n",
      "gopal.ramasammycook@gmail.com\n",
      "david.horwitz@uct.ac.za\n",
      "david.horwitz@uct.ac.za\n",
      "david.horwitz@uct.ac.za\n",
      "david.horwitz@uct.ac.za\n",
      "stephen.marquard@uct.ac.za\n",
      "louis@media.berkeley.edu\n",
      "louis@media.berkeley.edu\n",
      "ray@media.berkeley.edu\n",
      "cwen@iupui.edu\n",
      "cwen@iupui.edu\n",
      "cwen@iupui.edu\n",
      "There were 27 lines in the file with From as the first word\n"
     ]
    }
   ],
   "source": [
    "#Open the file mbox-short.txt and read it line by line. When you find a line that starts with \n",
    "#'From ' like the following line:\n",
    "#From stephen.marquard@uct.ac.za Sat Jan  5 09:14:16 2008\n",
    "#You will parse the From line using split() and print out the second word in the line (i.e. the entire address of the person who sent the message). Then print out a count at the end.\n",
    "#Hint: make sure not to include the lines that start with 'From:'.\n",
    "\n",
    "\n",
    "fname=input('enter your filename:')\n",
    "rf=open(fname,'r')\n",
    "count=0\n",
    "for line in rf:\n",
    "    line=line.rstrip()\n",
    "    if line.startswith('From '):\n",
    "        count+=1\n",
    "        words=line.split()\n",
    "        print(words[1])\n",
    "print('There were {} lines in the file with From as the first word'.format(count))"
   ]
  },
  {
   "cell_type": "code",
   "execution_count": 99,
   "metadata": {},
   "outputs": [
    {
     "name": "stdout",
     "output_type": "stream",
     "text": [
      "{'maher': 3, 'sunny': 1, 'Rahi': 1}\n"
     ]
    }
   ],
   "source": [
    "names=['maher','sunny','Rahi','maher','maher']\n",
    "name_dict=dict()\n",
    "for name in names:\n",
    "    if name not in name_dict.keys():\n",
    "        name_dict[name]=0\n",
    "    name_dict[name]+=1\n",
    "print(name_dict)"
   ]
  },
  {
   "cell_type": "code",
   "execution_count": 101,
   "metadata": {},
   "outputs": [
    {
     "name": "stdout",
     "output_type": "stream",
     "text": [
      "{'maher': 3, 'sunny': 1, 'Rahi': 1}\n"
     ]
    }
   ],
   "source": [
    "#name_dict.get('maher')\n",
    "counts=dict()\n",
    "names=['maher','sunny','Rahi','maher','maher']\n",
    "for name in names:\n",
    "    counts[name]=counts.get(name,0)+1\n",
    "print(counts)"
   ]
  },
  {
   "cell_type": "code",
   "execution_count": 109,
   "metadata": {},
   "outputs": [
    {
     "name": "stdout",
     "output_type": "stream",
     "text": [
      "the 445\n"
     ]
    }
   ],
   "source": [
    "with open('writting.txt','r',encoding='utf-8') as rf:\n",
    "    counts=dict()\n",
    "    for line in rf:\n",
    "        line=line.lower().rstrip()\n",
    "        words=line.split()\n",
    "        for word in words:\n",
    "            if word not in counts:\n",
    "                counts[word]=0\n",
    "            counts[word]+=1\n",
    "bigword=None\n",
    "bigcount=None\n",
    "for word,count in counts.items():\n",
    "    if bigcount==None or count>bigcount:\n",
    "        bigword=word\n",
    "        bigcount=count\n",
    "print(bigword,bigcount)\n"
   ]
  },
  {
   "cell_type": "code",
   "execution_count": 110,
   "metadata": {},
   "outputs": [
    {
     "ename": "KeyError",
     "evalue": "'candy'",
     "output_type": "error",
     "traceback": [
      "\u001b[1;31m---------------------------------------------------------------------------\u001b[0m",
      "\u001b[1;31mKeyError\u001b[0m                                  Traceback (most recent call last)",
      "\u001b[1;32m<ipython-input-110-928189c0281a>\u001b[0m in \u001b[0;36m<module>\u001b[1;34m\u001b[0m\n\u001b[0;32m      1\u001b[0m \u001b[0mstuff\u001b[0m \u001b[1;33m=\u001b[0m \u001b[0mdict\u001b[0m\u001b[1;33m(\u001b[0m\u001b[1;33m)\u001b[0m\u001b[1;33m\u001b[0m\u001b[1;33m\u001b[0m\u001b[0m\n\u001b[1;32m----> 2\u001b[1;33m \u001b[0mprint\u001b[0m\u001b[1;33m(\u001b[0m\u001b[0mstuff\u001b[0m\u001b[1;33m[\u001b[0m\u001b[1;34m'candy'\u001b[0m\u001b[1;33m]\u001b[0m\u001b[1;33m)\u001b[0m\u001b[1;33m\u001b[0m\u001b[1;33m\u001b[0m\u001b[0m\n\u001b[0m",
      "\u001b[1;31mKeyError\u001b[0m: 'candy'"
     ]
    }
   ],
   "source": [
    "stuff = dict()\n",
    "print(stuff['candy'])"
   ]
  },
  {
   "cell_type": "code",
   "execution_count": 111,
   "metadata": {},
   "outputs": [
    {
     "name": "stdout",
     "output_type": "stream",
     "text": [
      "-1\n"
     ]
    }
   ],
   "source": [
    "stuff = dict()\n",
    "print(stuff.get('candy',-1))"
   ]
  },
  {
   "cell_type": "code",
   "execution_count": 116,
   "metadata": {},
   "outputs": [
    {
     "name": "stdout",
     "output_type": "stream",
     "text": [
      "enter the file name:mbox-short.txt\n",
      "cwen@iupui.edu 5\n"
     ]
    }
   ],
   "source": [
    "#Write a program to read through the mbox-short.txt and figure out who has sent the greatest \n",
    "#number of mail messages. The program looks for 'From ' lines and takes the second word of \n",
    "#those lines as the person who sent the mail. The program creates a Python dictionary that \n",
    "#maps the sender's mail address to a count of the number of times they appear in the file. \n",
    "#After the dictionary is produced, the program reads through the dictionary using a maximum #\n",
    "#loop to find the most prolific committer.\n",
    "fname=input('enter the file name:')\n",
    "rf=open(fname,'r')\n",
    "counts=dict()\n",
    "for line in rf:\n",
    "    line=line.rstrip()\n",
    "    if line.startswith('From '):\n",
    "        word=line.split()[1]\n",
    "        if word not in counts:\n",
    "            counts[word]=0\n",
    "        counts[word]+=1\n",
    "mail_name=None\n",
    "max_mail_count=None\n",
    "for name,count in counts.items():\n",
    "    if max_mail_count==None or count>max_mail_count:\n",
    "        mail_name=name\n",
    "        max_mail_count=count\n",
    "print(mail_name,max_mail_count)\n",
    "        "
   ]
  },
  {
   "cell_type": "code",
   "execution_count": 121,
   "metadata": {},
   "outputs": [
    {
     "name": "stdout",
     "output_type": "stream",
     "text": [
      "c 22\n",
      "b 10\n",
      "a 1\n"
     ]
    }
   ],
   "source": [
    "d={'c':22,'b':10,'a':1}\n",
    "tmp=[]\n",
    "for key,value in sorted(d.items(),reverse=True):\n",
    "    #tmp.append((value,key))\n",
    "    print(key,value)\n",
    "#tmp=sorted(tmp,reverse=True)\n",
    "#tmp"
   ]
  },
  {
   "cell_type": "code",
   "execution_count": 127,
   "metadata": {},
   "outputs": [
    {
     "name": "stdout",
     "output_type": "stream",
     "text": [
      "the 445\n",
      "of 277\n",
      "in 212\n",
      "to 207\n",
      "a 197\n",
      "and 180\n",
      "is 140\n",
      "their 105\n",
      "this 92\n",
      "for 92\n"
     ]
    }
   ],
   "source": [
    "#10_most_common_word\n",
    "with open('writting.txt','r',encoding='utf-8') as rf:\n",
    "    counts={}\n",
    "    for line in rf:\n",
    "        line=line.lower().rstrip()\n",
    "        words=line.split()\n",
    "        for word in words:\n",
    "            if word not in counts:\n",
    "                counts[word]=0\n",
    "            counts[word]+=1\n",
    "tmp=[]\n",
    "for key,value in counts.items():\n",
    "    tmp.append((value,key))\n",
    "tmp=sorted(tmp,reverse=True)\n",
    "for value,word in tmp[:10]:\n",
    "    print(word,value)"
   ]
  },
  {
   "cell_type": "code",
   "execution_count": 128,
   "metadata": {},
   "outputs": [
    {
     "data": {
      "text/plain": [
       "['__add__',\n",
       " '__class__',\n",
       " '__contains__',\n",
       " '__delattr__',\n",
       " '__delitem__',\n",
       " '__dir__',\n",
       " '__doc__',\n",
       " '__eq__',\n",
       " '__format__',\n",
       " '__ge__',\n",
       " '__getattribute__',\n",
       " '__getitem__',\n",
       " '__gt__',\n",
       " '__hash__',\n",
       " '__iadd__',\n",
       " '__imul__',\n",
       " '__init__',\n",
       " '__init_subclass__',\n",
       " '__iter__',\n",
       " '__le__',\n",
       " '__len__',\n",
       " '__lt__',\n",
       " '__mul__',\n",
       " '__ne__',\n",
       " '__new__',\n",
       " '__reduce__',\n",
       " '__reduce_ex__',\n",
       " '__repr__',\n",
       " '__reversed__',\n",
       " '__rmul__',\n",
       " '__setattr__',\n",
       " '__setitem__',\n",
       " '__sizeof__',\n",
       " '__str__',\n",
       " '__subclasshook__',\n",
       " 'append',\n",
       " 'clear',\n",
       " 'copy',\n",
       " 'count',\n",
       " 'extend',\n",
       " 'index',\n",
       " 'insert',\n",
       " 'pop',\n",
       " 'remove',\n",
       " 'reverse',\n",
       " 'sort']"
      ]
     },
     "execution_count": 128,
     "metadata": {},
     "output_type": "execute_result"
    }
   ],
   "source": [
    "l1=list()\n",
    "l2=tuple()\n",
    "dir(l1)\n"
   ]
  },
  {
   "cell_type": "code",
   "execution_count": 129,
   "metadata": {},
   "outputs": [
    {
     "data": {
      "text/plain": [
       "['__add__',\n",
       " '__class__',\n",
       " '__contains__',\n",
       " '__delattr__',\n",
       " '__dir__',\n",
       " '__doc__',\n",
       " '__eq__',\n",
       " '__format__',\n",
       " '__ge__',\n",
       " '__getattribute__',\n",
       " '__getitem__',\n",
       " '__getnewargs__',\n",
       " '__gt__',\n",
       " '__hash__',\n",
       " '__init__',\n",
       " '__init_subclass__',\n",
       " '__iter__',\n",
       " '__le__',\n",
       " '__len__',\n",
       " '__lt__',\n",
       " '__mul__',\n",
       " '__ne__',\n",
       " '__new__',\n",
       " '__reduce__',\n",
       " '__reduce_ex__',\n",
       " '__repr__',\n",
       " '__rmul__',\n",
       " '__setattr__',\n",
       " '__sizeof__',\n",
       " '__str__',\n",
       " '__subclasshook__',\n",
       " 'count',\n",
       " 'index']"
      ]
     },
     "execution_count": 129,
     "metadata": {},
     "output_type": "execute_result"
    }
   ],
   "source": [
    "dir(l2)"
   ]
  },
  {
   "cell_type": "code",
   "execution_count": 132,
   "metadata": {},
   "outputs": [
    {
     "data": {
      "text/plain": [
       "[200, 100, 50]"
      ]
     },
     "execution_count": 132,
     "metadata": {},
     "output_type": "execute_result"
    }
   ],
   "source": [
    "data=[200,50,100]\n",
    "data.sort(reverse=True)\n",
    "data"
   ]
  },
  {
   "cell_type": "code",
   "execution_count": 145,
   "metadata": {},
   "outputs": [
    {
     "name": "stdout",
     "output_type": "stream",
     "text": [
      "enter your filename:mbox-short.txt\n",
      "04 3\n",
      "06 1\n",
      "07 1\n",
      "09 2\n",
      "10 3\n",
      "11 6\n",
      "14 1\n",
      "15 2\n",
      "16 4\n",
      "17 2\n",
      "18 1\n",
      "19 1\n"
     ]
    }
   ],
   "source": [
    "#Write a program to read through the mbox-short.txt and figure out the distribution by hour \n",
    "#of the day for each of the messages. You can pull the hour out from the 'From ' line by\n",
    "#finding the time and then splitting the string a second time using a colon.\n",
    "#From stephen.marquard@uct.ac.za Sat Jan  5 09:14:16 2008\n",
    "#Once you have accumulated the counts for each hour, print out the counts, sorted by hour as \n",
    "#shown below.\n",
    "\n",
    "\n",
    "fname=input('enter your filename:')\n",
    "rf=open(fname,'r')\n",
    "hour_dict={}\n",
    "for line in rf:\n",
    "    line=line.rstrip()\n",
    "    if line.startswith('From '):\n",
    "        words=line.split(' ')\n",
    "        time=words[6]\n",
    "        hour=time.split(':')[0]\n",
    "        if hour not in hour_dict:\n",
    "            hour_dict[hour]=0\n",
    "        hour_dict[hour]+=1\n",
    "for key,value in sorted(hour_dict.items()):\n",
    "    print(key,value)\n",
    "\n",
    "      \n",
    "        "
   ]
  },
  {
   "cell_type": "code",
   "execution_count": null,
   "metadata": {},
   "outputs": [],
   "source": []
  },
  {
   "cell_type": "code",
   "execution_count": null,
   "metadata": {},
   "outputs": [],
   "source": []
  }
 ],
 "metadata": {
  "kernelspec": {
   "display_name": "Python 3",
   "language": "python",
   "name": "python3"
  },
  "language_info": {
   "codemirror_mode": {
    "name": "ipython",
    "version": 3
   },
   "file_extension": ".py",
   "mimetype": "text/x-python",
   "name": "python",
   "nbconvert_exporter": "python",
   "pygments_lexer": "ipython3",
   "version": "3.7.6"
  }
 },
 "nbformat": 4,
 "nbformat_minor": 4
}
